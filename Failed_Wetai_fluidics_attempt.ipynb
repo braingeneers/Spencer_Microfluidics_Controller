{
 "cells": [
  {
   "cell_type": "markdown",
   "id": "a2d07fb7",
   "metadata": {},
   "source": [
    "<font size=7 color='magenta'>Test Microfluidics Control</font>"
   ]
  },
  {
   "cell_type": "markdown",
   "id": "5bc30b52",
   "metadata": {},
   "source": [
    "In this notebook we see if we can control the microfluidics system through the WetAI interface."
   ]
  },
  {
   "cell_type": "markdown",
   "id": "7757887b",
   "metadata": {},
   "source": [
    "<font color=orange>Note: we currently depend on code in the folders `tecancavro` and `Spencer_Microfluidics_Controller`. We should eventually wrap this code into the `braingeneerspy` package."
   ]
  },
  {
   "cell_type": "markdown",
   "id": "74708bd9",
   "metadata": {
    "heading_collapsed": true
   },
   "source": [
    "# <font color=\"gray\"> Install Dependencies"
   ]
  },
  {
   "cell_type": "markdown",
   "id": "662e84ae",
   "metadata": {
    "hidden": true
   },
   "source": [
    "We must install a package called `serial`"
   ]
  },
  {
   "cell_type": "code",
   "execution_count": null,
   "id": "905dd281",
   "metadata": {
    "hidden": true
   },
   "outputs": [],
   "source": [
    "# !pip3 install pyserial"
   ]
  },
  {
   "cell_type": "markdown",
   "id": "27e63a60",
   "metadata": {
    "hidden": true
   },
   "source": [
    "We install spencer's code."
   ]
  },
  {
   "cell_type": "code",
   "execution_count": null,
   "id": "c5c3816b",
   "metadata": {
    "hidden": true
   },
   "outputs": [],
   "source": []
  },
  {
   "cell_type": "markdown",
   "id": "215a9435",
   "metadata": {},
   "source": [
    "# <font color=\"gray\"> Set Up Pump"
   ]
  },
  {
   "cell_type": "markdown",
   "id": "a0543848",
   "metadata": {},
   "source": [
    "On the wetai terminal, we run the command `lsusb` to determine the usb id for the microfluidics pump."
   ]
  },
  {
   "cell_type": "code",
   "execution_count": null,
   "id": "25bad373",
   "metadata": {},
   "outputs": [],
   "source": []
  },
  {
   "cell_type": "code",
   "execution_count": null,
   "id": "19470167",
   "metadata": {},
   "outputs": [],
   "source": []
  },
  {
   "cell_type": "markdown",
   "id": "5c56f0c0",
   "metadata": {},
   "source": [
    "# <font color=\"gray\">Import Packages"
   ]
  },
  {
   "cell_type": "code",
   "execution_count": 2,
   "id": "8f0f36d9",
   "metadata": {},
   "outputs": [],
   "source": [
    "import serial"
   ]
  },
  {
   "cell_type": "markdown",
   "id": "d461d95f",
   "metadata": {},
   "source": [
    "We install the tecancavro package"
   ]
  },
  {
   "cell_type": "code",
   "execution_count": 3,
   "id": "c29ad99c",
   "metadata": {},
   "outputs": [],
   "source": [
    "from tecancavro import *"
   ]
  },
  {
   "cell_type": "markdown",
   "id": "5a72f792",
   "metadata": {},
   "source": [
    "import stuff"
   ]
  },
  {
   "cell_type": "code",
   "execution_count": 4,
   "id": "4b81bcb1",
   "metadata": {},
   "outputs": [],
   "source": [
    "import time, math\n",
    "\n",
    "from tecancavro.models import CentrisB, SmartValveB\n",
    "\n",
    "from tecancavro.transport import TecanAPISerial"
   ]
  },
  {
   "cell_type": "markdown",
   "id": "bc346d19",
   "metadata": {
    "heading_collapsed": true
   },
   "source": [
    "# <font color=\"magenta\">Build Classes"
   ]
  },
  {
   "cell_type": "markdown",
   "id": "17c77667",
   "metadata": {
    "heading_collapsed": true,
    "hidden": true
   },
   "source": [
    "## <font color=\"magenta\">Vitals"
   ]
  },
  {
   "cell_type": "markdown",
   "id": "5567948c",
   "metadata": {
    "hidden": true
   },
   "source": [
    "Identify if it is a 24 or 12 well system. The are high level functions. For example, \"wash\" would clean multiple wells."
   ]
  },
  {
   "cell_type": "markdown",
   "id": "ca14fbb3",
   "metadata": {
    "hidden": true
   },
   "source": [
    "<b><font color=\"orange\">Note: Currently this code is still in construciton."
   ]
  },
  {
   "cell_type": "code",
   "execution_count": null,
   "id": "4f735d9c",
   "metadata": {
    "hidden": true
   },
   "outputs": [],
   "source": [
    "class Vitals:\n",
    "    \"\"\"\n",
    "    System-level methods managing delays and halts.\n",
    "    \"\"\"\n",
    "\n",
    "    def __init__(self, pump, disp_valve=None, aspir_valve=None):\n",
    "        \"\"\"\n",
    "        Object constructor function, save pump and valve references\n",
    "\n",
    "        Args:\n",
    "            'pump' (obj) : reference to pump object\n",
    "        Kwargs:\n",
    "            'disp_valve' (obj) : reference to dispensing valve object\n",
    "            'aspir_valve' (obj) : reference to aspirating valve object\n",
    "        \"\"\"\n",
    "        self.pump = pump\n",
    "        self.disp_valve = disp_valve\n",
    "        self.aspir_valve = aspir_valve\n",
    "\n",
    "    def autoWash(self, wells_list, period_s, name='', report_s=300):\n",
    "        \"\"\"\n",
    "        For every Well in 'wells_list', continuously aspirate through the inlet\n",
    "        port and dispense out the outlet port for the duration of 'period_s'.\n",
    "        This process entails aspiration through the fluidic rig of the entire\n",
    "        system\n",
    "\n",
    "        Args:\n",
    "            'wells_list' (list) : list of all Well objects to wash\n",
    "            'period_s' (float) : washing time period in seconds\n",
    "        Kwargs:\n",
    "            `name' (str) : give a label to the wash\n",
    "            'report_s' (float) : frequency of generating a status report\n",
    "        \"\"\"\n",
    "\n",
    "    def sysDelay(self, period_s, name='', report_s=300):\n",
    "        \"\"\"\n",
    "        Let the system idle for 'period_s' seconds and generate delay status report\n",
    "        at frequency of 'report_s'.\n",
    "\n",
    "        Args:\n",
    "            'period_s' (float) : delay period in seconds\n",
    "        Kwargs:\n",
    "            `name' (str) : give a label to the delay period\n",
    "            'report_s' (float) : frequency of generating a status report\n",
    "        \"\"\"\n",
    "        delay_params = {\n",
    "            'name': name,\n",
    "            'complete': False,\n",
    "            'tic': time.time(),\n",
    "            'duration': period_s,\n",
    "            'iteration': 0,\n",
    "            'report_s': report_s\n",
    "        }\n",
    "\n",
    "        # Manage delay and reporting\n",
    "        while not delay_params['complete']:\n",
    "            toc = time.time()\n",
    "            if toc - delay_params['tic'] >= delay_params['duration']:\n",
    "                delay_params['complete'] = True\n",
    "                break\n",
    "            if report_s is not None:\n",
    "                if math.floor((toc - delay_params['tic']) / delay_params['report_s']) >= \\\n",
    "                        delay_params['iteration']:\n",
    "                    time_stamp = time.strftime('%Y-%m-%d %H:%M:%S', time.localtime())\n",
    "                    msg = '{0} \\t{1} \\t{2}s complete of \\t{3}s delay '\n",
    "                    print(msg.format(time_stamp, delay_params['name'],\n",
    "                                     delay_params['iteration'] * delay_params['report_s'],\n",
    "                                     delay_params['duration']))\n",
    "                    delay_params['iteration'] += 1\n",
    "            time.sleep(5)  # idle for 5 seconds"
   ]
  },
  {
   "cell_type": "markdown",
   "id": "1227a0f1",
   "metadata": {
    "heading_collapsed": true,
    "hidden": true
   },
   "source": [
    "## <font color=\"magenta\"> Well"
   ]
  },
  {
   "cell_type": "markdown",
   "id": "1f9dbc47",
   "metadata": {
    "hidden": true
   },
   "source": [
    "This is the **important** calss. It controls fluidics for a well."
   ]
  },
  {
   "cell_type": "code",
   "execution_count": null,
   "id": "2a1c76fe",
   "metadata": {
    "hidden": true
   },
   "outputs": [],
   "source": [
    "class Well:\n",
    "    \"\"\"\n",
    "    Class to instantiate a well (isolated experiment), saving attributes if in_port,\n",
    "    out_port, and the parameters regarding replenishment cycles.\n",
    "    \"\"\"\n",
    "\n",
    "    def __init__(self, pump, source_port, in_port, out_port, exhaust_port, in_volume_ul,\n",
    "                 out_volume_ul, period_s, tic, speed=12, disp_valve=None, disp_port=None,\n",
    "                 aspir_valve=None, aspir_port=None, name=''):\n",
    "        \"\"\"\n",
    "        Object constructor function.\n",
    "\n",
    "        Args:\n",
    "            'pump' (obj) : reference to pump object\n",
    "            `source_port' (int) : 'pump' port for media reservoir\n",
    "            `in_port' (int) : 'pump' port for reagent delivery (to well)\n",
    "            'out_port' (int) : 'pump' port for reagent extraction (to waste)\n",
    "            'exhaust_port' (int) : port for non-fluidic, open exhaust\n",
    "            'in_volume_ul' (float) : absolute volume (uL) to deliver at intervals\n",
    "                                     of 'period_s'\n",
    "            'out_volume_ul' (float) : absolute volume (uL) to aspirate at intervals\n",
    "                                      of 'period_s'\n",
    "            'period_s' (float) : frequency of reagent deliverance\n",
    "            'tic' (int) : starting time of schedule (sec)\n",
    "        Kwargs:\n",
    "            'speed' (int)\n",
    "            'disp_valve' (obj) : reference to dispensing valve object\n",
    "            `disp_port' (int) : 'disp_valve' port for reagent delivery (to well)\n",
    "            'aspir_valve' (obj) : reference to aspirating valve object\n",
    "            'aspir_port' (int) : 'aspir_vavle' port for reagent extraction (to waste)\n",
    "            `name' (str) : give a label to the well\n",
    "\n",
    "        \"\"\"\n",
    "        self.pump = pump\n",
    "        self.source_port = int(source_port)\n",
    "        self.in_port = int(in_port)\n",
    "        self.out_port = int(out_port)\n",
    "        self.exhaust_port = int(exhaust_port)\n",
    "        self.in_volume_ul = float(in_volume_ul)\n",
    "        self.out_volume_ul = float(out_volume_ul)\n",
    "        self.period_s = float(period_s)\n",
    "        self.tic = int(tic)\n",
    "        self.speed = int(speed)\n",
    "        self.name = str(name)\n",
    "\n",
    "        # State\n",
    "        self.state = {\n",
    "            'iteration': 0,\n",
    "            'in_volume': 0,\n",
    "            'out_volume': 0,\n",
    "            'disp_valve': False,\n",
    "            'aspir_valve': False,\n",
    "            'syringe_volume': 0\n",
    "        }\n",
    "        self.disp_valve = disp_valve\n",
    "        if self.disp_valve is not None:\n",
    "            self.state['disp_valve'] = True\n",
    "        self.disp_port = disp_port\n",
    "        self.aspir_valve = aspir_valve\n",
    "        if self.aspir_valve is not None:\n",
    "            self.state['aspir_valve'] = True\n",
    "        self.aspir_port = aspir_port\n",
    "\n",
    "    def queryStatus(self, t):\n",
    "        \"\"\"\n",
    "        Query if the node is ready for a cycle iteration based on 'period_s' frequency\n",
    "        and 'start_time'\n",
    "\n",
    "        :return (boolean): ready to conduct a cycle iteration\n",
    "        \"\"\"\n",
    "\n",
    "        if math.floor((t - self.tic) / self.period_s) >= self.state['iteration']:\n",
    "            return True\n",
    "        else:\n",
    "            return False\n",
    "\n",
    "    def replenishmentCycle(self, source_port=None, in_volume_ul=None, in_port=None, out_volume_ul=None,\n",
    "                           out_port=None):\n",
    "        \"\"\"\n",
    "        Conduct a replenishment cycle: extract 'out_volume_ul' from 'out_port' and\n",
    "        dispense 'in_volume_ul' from 'in_port'\n",
    "\n",
    "        \"\"\"\n",
    "\n",
    "        source_port = source_port if source_port is not None else self.source_port\n",
    "        in_volume_ul = in_volume_ul if in_volume_ul is not None else self.in_volume_ul\n",
    "        in_port = in_port if in_port is not None else self.in_port\n",
    "        out_volume_ul = out_volume_ul if out_volume_ul is not None else self.out_volume_ul\n",
    "        out_port = out_port if out_port is not None else self.out_port\n",
    "\n",
    "        # Check syringe fill\n",
    "        self.checkSyringe()\n",
    "        if self.state['syringe_volume'] < in_volume_ul:\n",
    "            self.fillSyringe(source_port)\n",
    "        self.pump.setSpeed(self.speed)\n",
    "\n",
    "        # Aspirate - Dry pump\n",
    "        if self.state['aspir_valve']:\n",
    "            self.aspir_valve.changePort(self.aspir_port)\n",
    "            self.aspir_valve.executeChain()\n",
    "            self.aspir_valve.waitReady(delay=0.5)\n",
    "        self.pump.aspirate(out_port, out_volume_ul)\n",
    "        self.pump.executeChain()\n",
    "        self.pump.waitReady(delay=2)\n",
    "\n",
    "        self.pump.dispense(self.exhaust_port, out_volume_ul)\n",
    "        self.pump.executeChain()\n",
    "        self.pump.waitReady(delay=2)\n",
    "\n",
    "        # Dispense - Wet pump\n",
    "        if self.state['disp_valve']:\n",
    "            self.disp_valve.changePort(self.disp_port)\n",
    "            self.disp_valve.executeChain()\n",
    "            self.disp_valve.waitReady(delay=0.5)\n",
    "        self.pump.dispense(in_port, in_volume_ul)\n",
    "        self.pump.delayExec(2000)\n",
    "        self.pump.changePort(self.exhaust_port)\n",
    "        self.pump.executeChain()\n",
    "        self.pump.waitReady(delay=2)\n",
    "\n",
    "        # State update\n",
    "        self.state['iteration'] += 1\n",
    "        self.state['in_volume'] += in_volume_ul\n",
    "        self.state['out_volume'] += out_volume_ul\n",
    "        self.checkSyringe()\n",
    "\n",
    "    def checkSyringe(self):\n",
    "        \"\"\"\n",
    "        Check the plunger position\n",
    "        \"\"\"\n",
    "\n",
    "        # State update\n",
    "        time.sleep(1)  # idle for 1 seconds\n",
    "        plunger_pos = self.pump.getPlungerPos()\n",
    "        self.state['syringe_volume'] = plunger_pos\n",
    "\n",
    "    def fillSyringe(self, source_port=None, speed=14):\n",
    "        \"\"\"\n",
    "        Fill the syringe vial from 'source_port'\n",
    "        \"\"\"\n",
    "\n",
    "        source_port = source_port if source_port is not None else self.source_port\n",
    "\n",
    "        # Fill syringe\n",
    "        self.pump.setSpeed(speed)\n",
    "        self.pump.changePort(source_port)\n",
    "        self.pump.delayExec(1000)\n",
    "        self.pump.movePlungerAbs(121)\n",
    "        self.pump.delayExec(1000)\n",
    "        delay = self.pump.executeChain()\n",
    "        self.pump.waitReady(delay=3)\n",
    "\n",
    "        # State update\n",
    "        self.checkSyringe()\n",
    "\n",
    "    def statusReport(self):\n",
    "        \"\"\"Print the contents of self.state in table format.\"\"\"\n",
    "        time_stamp = time.strftime('%Y-%m-%d %H:%M:%S', time.localtime())\n",
    "        msg = '{0} \\t{1} \\tIter: {2} \\tVol In: {3} \\tVol Out: {4} \\tSyringe Vol: {5}'\n",
    "        print(msg.format(time_stamp, self.name, self.state['iteration'],\n",
    "                         self.state['in_volume'], self.state['out_volume'],\n",
    "                         self.state['syringe_volume']))"
   ]
  },
  {
   "cell_type": "markdown",
   "id": "143c9dae",
   "metadata": {},
   "source": [
    "# <font color=\"blue\">Test Pump Control"
   ]
  },
  {
   "cell_type": "code",
   "execution_count": 6,
   "id": "2f4fd15b",
   "metadata": {},
   "outputs": [
    {
     "ename": "SerialException",
     "evalue": "[Errno 13] could not open port /dev/ttyUSB1: [Errno 13] Permission denied: '/dev/ttyUSB1'",
     "output_type": "error",
     "traceback": [
      "\u001b[0;31m---------------------------------------------------------------------------\u001b[0m",
      "\u001b[0;31mPermissionError\u001b[0m                           Traceback (most recent call last)",
      "\u001b[0;32m~/miniconda3/lib/python3.9/site-packages/serial/serialposix.py\u001b[0m in \u001b[0;36mopen\u001b[0;34m(self)\u001b[0m\n\u001b[1;32m    321\u001b[0m         \u001b[0;32mtry\u001b[0m\u001b[0;34m:\u001b[0m\u001b[0;34m\u001b[0m\u001b[0;34m\u001b[0m\u001b[0m\n\u001b[0;32m--> 322\u001b[0;31m             \u001b[0mself\u001b[0m\u001b[0;34m.\u001b[0m\u001b[0mfd\u001b[0m \u001b[0;34m=\u001b[0m \u001b[0mos\u001b[0m\u001b[0;34m.\u001b[0m\u001b[0mopen\u001b[0m\u001b[0;34m(\u001b[0m\u001b[0mself\u001b[0m\u001b[0;34m.\u001b[0m\u001b[0mportstr\u001b[0m\u001b[0;34m,\u001b[0m \u001b[0mos\u001b[0m\u001b[0;34m.\u001b[0m\u001b[0mO_RDWR\u001b[0m \u001b[0;34m|\u001b[0m \u001b[0mos\u001b[0m\u001b[0;34m.\u001b[0m\u001b[0mO_NOCTTY\u001b[0m \u001b[0;34m|\u001b[0m \u001b[0mos\u001b[0m\u001b[0;34m.\u001b[0m\u001b[0mO_NONBLOCK\u001b[0m\u001b[0;34m)\u001b[0m\u001b[0;34m\u001b[0m\u001b[0;34m\u001b[0m\u001b[0m\n\u001b[0m\u001b[1;32m    323\u001b[0m         \u001b[0;32mexcept\u001b[0m \u001b[0mOSError\u001b[0m \u001b[0;32mas\u001b[0m \u001b[0mmsg\u001b[0m\u001b[0;34m:\u001b[0m\u001b[0;34m\u001b[0m\u001b[0;34m\u001b[0m\u001b[0m\n",
      "\u001b[0;31mPermissionError\u001b[0m: [Errno 13] Permission denied: '/dev/ttyUSB1'",
      "\nDuring handling of the above exception, another exception occurred:\n",
      "\u001b[0;31mSerialException\u001b[0m                           Traceback (most recent call last)",
      "\u001b[0;32m<ipython-input-6-5955125a72f5>\u001b[0m in \u001b[0;36m<module>\u001b[0;34m\u001b[0m\n\u001b[0;32m----> 1\u001b[0;31m centris_pump = CentrisB(com_link=TecanAPISerial(0, '/dev/ttyUSB1', 9600), waste_port=6,\n\u001b[0m\u001b[1;32m      2\u001b[0m                         microliter=True)\n",
      "\u001b[0;32m~/wetai/homepage/Projects/Microfluidics_Controller/tecancavro/transport.py\u001b[0m in \u001b[0;36m__init__\u001b[0;34m(self, tecan_addr, ser_port, ser_baud, ser_timeout, max_attempts)\u001b[0m\n\u001b[1;32m    119\u001b[0m             \u001b[0;34m'max_attempts'\u001b[0m\u001b[0;34m:\u001b[0m \u001b[0mmax_attempts\u001b[0m\u001b[0;34m\u001b[0m\u001b[0;34m\u001b[0m\u001b[0m\n\u001b[1;32m    120\u001b[0m         }\n\u001b[0;32m--> 121\u001b[0;31m         \u001b[0mself\u001b[0m\u001b[0;34m.\u001b[0m\u001b[0m_registerSer\u001b[0m\u001b[0;34m(\u001b[0m\u001b[0;34m)\u001b[0m\u001b[0;34m\u001b[0m\u001b[0;34m\u001b[0m\u001b[0m\n\u001b[0m\u001b[1;32m    122\u001b[0m \u001b[0;34m\u001b[0m\u001b[0m\n\u001b[1;32m    123\u001b[0m     \u001b[0;32mdef\u001b[0m \u001b[0msendRcv\u001b[0m\u001b[0;34m(\u001b[0m\u001b[0mself\u001b[0m\u001b[0;34m,\u001b[0m \u001b[0mcmd\u001b[0m\u001b[0;34m)\u001b[0m\u001b[0;34m:\u001b[0m\u001b[0;34m\u001b[0m\u001b[0;34m\u001b[0m\u001b[0m\n",
      "\u001b[0;32m~/wetai/homepage/Projects/Microfluidics_Controller/tecancavro/transport.py\u001b[0m in \u001b[0;36m_registerSer\u001b[0;34m(self)\u001b[0m\n\u001b[1;32m    164\u001b[0m             \u001b[0mreg\u001b[0m\u001b[0;34m[\u001b[0m\u001b[0mport\u001b[0m\u001b[0;34m]\u001b[0m \u001b[0;34m=\u001b[0m \u001b[0;34m{\u001b[0m\u001b[0;34m}\u001b[0m\u001b[0;34m\u001b[0m\u001b[0;34m\u001b[0m\u001b[0m\n\u001b[1;32m    165\u001b[0m             \u001b[0mreg\u001b[0m\u001b[0;34m[\u001b[0m\u001b[0mport\u001b[0m\u001b[0;34m]\u001b[0m\u001b[0;34m[\u001b[0m\u001b[0;34m'info'\u001b[0m\u001b[0;34m]\u001b[0m \u001b[0;34m=\u001b[0m \u001b[0;34m{\u001b[0m\u001b[0mk\u001b[0m\u001b[0;34m:\u001b[0m \u001b[0mv\u001b[0m \u001b[0;32mfor\u001b[0m \u001b[0mk\u001b[0m\u001b[0;34m,\u001b[0m \u001b[0mv\u001b[0m \u001b[0;32min\u001b[0m \u001b[0mself\u001b[0m\u001b[0;34m.\u001b[0m\u001b[0mser_info\u001b[0m\u001b[0;34m.\u001b[0m\u001b[0mitems\u001b[0m\u001b[0;34m(\u001b[0m\u001b[0;34m)\u001b[0m\u001b[0;34m}\u001b[0m\u001b[0;34m\u001b[0m\u001b[0;34m\u001b[0m\u001b[0m\n\u001b[0;32m--> 166\u001b[0;31m             reg[port]['_ser'] = serial.Serial(port=port,\n\u001b[0m\u001b[1;32m    167\u001b[0m                                     \u001b[0mbaudrate\u001b[0m\u001b[0;34m=\u001b[0m\u001b[0mreg\u001b[0m\u001b[0;34m[\u001b[0m\u001b[0mport\u001b[0m\u001b[0;34m]\u001b[0m\u001b[0;34m[\u001b[0m\u001b[0;34m'info'\u001b[0m\u001b[0;34m]\u001b[0m\u001b[0;34m[\u001b[0m\u001b[0;34m'baud'\u001b[0m\u001b[0;34m]\u001b[0m\u001b[0;34m,\u001b[0m\u001b[0;34m\u001b[0m\u001b[0;34m\u001b[0m\u001b[0m\n\u001b[1;32m    168\u001b[0m                                     timeout=reg[port]['info']['timeout'])\n",
      "\u001b[0;32m~/miniconda3/lib/python3.9/site-packages/serial/serialutil.py\u001b[0m in \u001b[0;36m__init__\u001b[0;34m(self, port, baudrate, bytesize, parity, stopbits, timeout, xonxoff, rtscts, write_timeout, dsrdtr, inter_byte_timeout, exclusive, **kwargs)\u001b[0m\n\u001b[1;32m    242\u001b[0m \u001b[0;34m\u001b[0m\u001b[0m\n\u001b[1;32m    243\u001b[0m         \u001b[0;32mif\u001b[0m \u001b[0mport\u001b[0m \u001b[0;32mis\u001b[0m \u001b[0;32mnot\u001b[0m \u001b[0;32mNone\u001b[0m\u001b[0;34m:\u001b[0m\u001b[0;34m\u001b[0m\u001b[0;34m\u001b[0m\u001b[0m\n\u001b[0;32m--> 244\u001b[0;31m             \u001b[0mself\u001b[0m\u001b[0;34m.\u001b[0m\u001b[0mopen\u001b[0m\u001b[0;34m(\u001b[0m\u001b[0;34m)\u001b[0m\u001b[0;34m\u001b[0m\u001b[0;34m\u001b[0m\u001b[0m\n\u001b[0m\u001b[1;32m    245\u001b[0m \u001b[0;34m\u001b[0m\u001b[0m\n\u001b[1;32m    246\u001b[0m     \u001b[0;31m#  -  -  -  -  -  -  -  -  -  -  -  -  -  -  -  -  -  -  -  -  -  -  -  -\u001b[0m\u001b[0;34m\u001b[0m\u001b[0;34m\u001b[0m\u001b[0;34m\u001b[0m\u001b[0m\n",
      "\u001b[0;32m~/miniconda3/lib/python3.9/site-packages/serial/serialposix.py\u001b[0m in \u001b[0;36mopen\u001b[0;34m(self)\u001b[0m\n\u001b[1;32m    323\u001b[0m         \u001b[0;32mexcept\u001b[0m \u001b[0mOSError\u001b[0m \u001b[0;32mas\u001b[0m \u001b[0mmsg\u001b[0m\u001b[0;34m:\u001b[0m\u001b[0;34m\u001b[0m\u001b[0;34m\u001b[0m\u001b[0m\n\u001b[1;32m    324\u001b[0m             \u001b[0mself\u001b[0m\u001b[0;34m.\u001b[0m\u001b[0mfd\u001b[0m \u001b[0;34m=\u001b[0m \u001b[0;32mNone\u001b[0m\u001b[0;34m\u001b[0m\u001b[0;34m\u001b[0m\u001b[0m\n\u001b[0;32m--> 325\u001b[0;31m             \u001b[0;32mraise\u001b[0m \u001b[0mSerialException\u001b[0m\u001b[0;34m(\u001b[0m\u001b[0mmsg\u001b[0m\u001b[0;34m.\u001b[0m\u001b[0merrno\u001b[0m\u001b[0;34m,\u001b[0m \u001b[0;34m\"could not open port {}: {}\"\u001b[0m\u001b[0;34m.\u001b[0m\u001b[0mformat\u001b[0m\u001b[0;34m(\u001b[0m\u001b[0mself\u001b[0m\u001b[0;34m.\u001b[0m\u001b[0m_port\u001b[0m\u001b[0;34m,\u001b[0m \u001b[0mmsg\u001b[0m\u001b[0;34m)\u001b[0m\u001b[0;34m)\u001b[0m\u001b[0;34m\u001b[0m\u001b[0;34m\u001b[0m\u001b[0m\n\u001b[0m\u001b[1;32m    326\u001b[0m         \u001b[0;31m#~ fcntl.fcntl(self.fd, fcntl.F_SETFL, 0)  # set blocking\u001b[0m\u001b[0;34m\u001b[0m\u001b[0;34m\u001b[0m\u001b[0;34m\u001b[0m\u001b[0m\n\u001b[1;32m    327\u001b[0m \u001b[0;34m\u001b[0m\u001b[0m\n",
      "\u001b[0;31mSerialException\u001b[0m: [Errno 13] could not open port /dev/ttyUSB1: [Errno 13] Permission denied: '/dev/ttyUSB1'"
     ]
    }
   ],
   "source": [
    "centris_pump = CentrisB(com_link=TecanAPISerial(0, '/dev/ttyUSB1', 9600), waste_port=6, microliter=True)"
   ]
  },
  {
   "cell_type": "code",
   "execution_count": null,
   "id": "8f71f5aa",
   "metadata": {},
   "outputs": [],
   "source": [
    "disp_valve = SmartValveB(com_link=TecanAPISerial(1, '/dev/ttyUSB0', 9600))\n",
    "aspir_valve = SmartValveB(com_link=TecanAPISerial(2, '/dev/ttyUSB0', 9600))\n",
    "vitalsSystem = Vitals(centris_pump, disp_valve, aspir_valve)\n",
    "centris_pump.init()\n",
    "time.sleep(2)  # idle for 2 seconds\n",
    "disp_valve.init()\n",
    "time.sleep(2)  # idle for 2 seconds"
   ]
  },
  {
   "cell_type": "code",
   "execution_count": null,
   "id": "d48769dc",
   "metadata": {},
   "outputs": [],
   "source": []
  },
  {
   "cell_type": "code",
   "execution_count": null,
   "id": "6d0d2aa1",
   "metadata": {},
   "outputs": [],
   "source": []
  },
  {
   "cell_type": "markdown",
   "id": "3c43d9f6",
   "metadata": {
    "heading_collapsed": true
   },
   "source": [
    "# <font color=\"brown\">Scratch Paper "
   ]
  },
  {
   "cell_type": "markdown",
   "id": "8734d1b3",
   "metadata": {
    "hidden": true
   },
   "source": [
    "Old main function"
   ]
  },
  {
   "cell_type": "code",
   "execution_count": null,
   "id": "b5c3e742",
   "metadata": {
    "hidden": true
   },
   "outputs": [],
   "source": [
    "\n",
    "# Initialization\n",
    "centris_pump = CentrisB(com_link=TecanAPISerial(0, '/dev/ttyUSB0', 9600), waste_port=6,\n",
    "                        microliter=True, debug=True, debug_log_path='/home/pi/Apps/tecancavro/')\n",
    "disp_valve = SmartValveB(com_link=TecanAPISerial(1, '/dev/ttyUSB0', 9600))\n",
    "aspir_valve = SmartValveB(com_link=TecanAPISerial(2, '/dev/ttyUSB0', 9600))\n",
    "vitalsSystem = Vitals(centris_pump, disp_valve, aspir_valve)\n",
    "centris_pump.init()\n",
    "time.sleep(2)  # idle for 2 seconds\n",
    "disp_valve.init()\n",
    "time.sleep(2)  # idle for 2 seconds"
   ]
  },
  {
   "cell_type": "code",
   "execution_count": null,
   "id": "cbb36576",
   "metadata": {
    "hidden": true
   },
   "outputs": [],
   "source": []
  },
  {
   "cell_type": "code",
   "execution_count": null,
   "id": "39d928f7",
   "metadata": {
    "hidden": true
   },
   "outputs": [],
   "source": []
  },
  {
   "cell_type": "code",
   "execution_count": null,
   "id": "3d56bd43",
   "metadata": {
    "hidden": true
   },
   "outputs": [],
   "source": []
  },
  {
   "cell_type": "code",
   "execution_count": null,
   "id": "df57c9d0",
   "metadata": {
    "hidden": true
   },
   "outputs": [],
   "source": []
  }
 ],
 "metadata": {
  "hide_input": false,
  "kernelspec": {
   "display_name": "Python 3",
   "language": "python",
   "name": "python3"
  },
  "language_info": {
   "codemirror_mode": {
    "name": "ipython",
    "version": 3
   },
   "file_extension": ".py",
   "mimetype": "text/x-python",
   "name": "python",
   "nbconvert_exporter": "python",
   "pygments_lexer": "ipython3",
   "version": "3.9.5"
  },
  "toc": {
   "base_numbering": 1,
   "nav_menu": {},
   "number_sections": true,
   "sideBar": true,
   "skip_h1_title": false,
   "title_cell": "Table of Contents",
   "title_sidebar": "Contents",
   "toc_cell": false,
   "toc_position": {},
   "toc_section_display": true,
   "toc_window_display": false
  }
 },
 "nbformat": 4,
 "nbformat_minor": 5
}
